{
 "cells": [
  {
   "cell_type": "markdown",
   "metadata": {},
   "source": [
    "# XBoost\n",
    "\n",
    "- Proceso aplicado a cada ciudad por separado\n",
    "- Se ha incluido GridSearch\n",
    "- Se ha mejorado la imputación de datos, la mejor solución se obtiene eliminando las filas vacias pero la submision da problemas al faltar registros.\n",
    "- Eliminaremos variables con poca correlacion y con muchos missing values para evitar imputar demasiados datos que desvien los resultados.\n",
    "- Se usan la mediana de los valores climatologicos del último mes (4 semanas) ya que, aumenta la correlacion usando parte del historico.  \n"
   ]
  },
  {
   "cell_type": "markdown",
   "metadata": {},
   "source": [
    "## Import libraries"
   ]
  },
  {
   "cell_type": "code",
   "execution_count": 5,
   "metadata": {
    "ExecuteTime": {
     "end_time": "2019-10-19T18:10:08.238856Z",
     "start_time": "2019-10-19T18:10:08.183362Z"
    }
   },
   "outputs": [],
   "source": [
    "import pandas as pd\n",
    "import numpy as np\n",
    "\n",
    "from sklearn.model_selection import train_test_split\n",
    "#import lightgbm as lgb\n",
    "\n",
    "# Data imputation\n",
    "from sklearn.preprocessing import Imputer\n",
    "from sklearn.preprocessing import StandardScaler, LabelEncoder, MinMaxScaler\n",
    "from sklearn.model_selection import GridSearchCV, KFold\n",
    "\n",
    "import matplotlib.pyplot as plt\n",
    "%matplotlib inline\n",
    "\n",
    "import seaborn as sns\n",
    "\n",
    "sns.set_style(\"whitegrid\")\n",
    "\n",
    "import warnings\n",
    "warnings.filterwarnings('ignore')\n",
    "\n",
    "import dengue_utils as dutils\n",
    "import dsutils as du\n",
    "\n",
    "import xgboost as xgb"
   ]
  },
  {
   "cell_type": "markdown",
   "metadata": {},
   "source": [
    "## Load dataset"
   ]
  },
  {
   "cell_type": "code",
   "execution_count": 6,
   "metadata": {
    "ExecuteTime": {
     "end_time": "2019-10-19T18:10:10.416026Z",
     "start_time": "2019-10-19T18:10:10.363757Z"
    }
   },
   "outputs": [
    {
     "data": {
      "text/plain": [
       "Index(['city', 'year', 'weekofyear', 'week_start_date', 'ndvi_ne', 'ndvi_nw',\n",
       "       'ndvi_se', 'ndvi_sw', 'precipitation_amt_mm', 'reanalysis_air_temp_k',\n",
       "       'reanalysis_avg_temp_k', 'reanalysis_dew_point_temp_k',\n",
       "       'reanalysis_max_air_temp_k', 'reanalysis_min_air_temp_k',\n",
       "       'reanalysis_precip_amt_kg_per_m2',\n",
       "       'reanalysis_relative_humidity_percent', 'reanalysis_sat_precip_amt_mm',\n",
       "       'reanalysis_specific_humidity_g_per_kg', 'reanalysis_tdtr_k',\n",
       "       'station_avg_temp_c', 'station_diur_temp_rng_c', 'station_max_temp_c',\n",
       "       'station_min_temp_c', 'station_precip_mm'],\n",
       "      dtype='object')"
      ]
     },
     "execution_count": 6,
     "metadata": {},
     "output_type": "execute_result"
    }
   ],
   "source": [
    "# Load dataset\n",
    "\n",
    "features_train = pd.read_csv('../data/dengue_features_train.csv')\n",
    "labels_train   = pd.read_csv('../data/dengue_labels_train.csv')\n",
    "\n",
    "features_test = pd.read_csv('../data/dengue_features_test.csv')\n",
    "\n",
    "dengue_dataset = pd.concat([features_train, features_test], axis = 0)\n",
    "\n",
    "# Join train labes and features\n",
    "dengue_dataset_labeled = dengue_dataset.merge(labels_train, \n",
    "                                           left_on = ['city', 'year', 'weekofyear'], \n",
    "                                           right_on = ['city', 'year', 'weekofyear'],\n",
    "                                           how = 'outer')\n",
    "\n",
    "\n",
    "features_test.columns"
   ]
  },
  {
   "cell_type": "code",
   "execution_count": 9,
   "metadata": {
    "ExecuteTime": {
     "end_time": "2019-10-19T18:14:15.223098Z",
     "start_time": "2019-10-19T18:14:10.585449Z"
    }
   },
   "outputs": [
    {
     "name": "stdout",
     "output_type": "stream",
     "text": [
      "[20:14:12] WARNING: src/objective/regression_obj.cu:152: reg:linear is now deprecated in favor of reg:squarederror.\n",
      "            count         mean        std     min      25%     50%      75%  \\\n",
      "year        260.0  2010.326923   1.492855  2008.0  2009.00  2010.0  2012.00   \n",
      "weekofyear  260.0    26.503846  15.043951     1.0    13.75    26.5    39.25   \n",
      "\n",
      "               max  \n",
      "year        2013.0  \n",
      "weekofyear    53.0  \n",
      "20191019 - 20:M:12: Preprocessing test data sj (260,)\n",
      "[20:14:14] WARNING: src/objective/regression_obj.cu:152: reg:linear is now deprecated in favor of reg:squarederror.\n",
      "            count         mean        std     min      25%     50%     75%  \\\n",
      "year        156.0  2011.500000   0.960511  2010.0  2011.00  2011.5  2012.0   \n",
      "weekofyear  156.0    26.333333  14.915821     1.0    13.75    26.0    39.0   \n",
      "\n",
      "               max  \n",
      "year        2013.0  \n",
      "weekofyear    52.0  \n",
      "20191019 - 20:M:14: Preprocessing test data iq (156,)\n",
      "(21.3530723027987, -0.9021047706546728, -0.7365223159461336)\n"
     ]
    },
    {
     "data": {
      "text/html": [
       "<div>\n",
       "<style scoped>\n",
       "    .dataframe tbody tr th:only-of-type {\n",
       "        vertical-align: middle;\n",
       "    }\n",
       "\n",
       "    .dataframe tbody tr th {\n",
       "        vertical-align: top;\n",
       "    }\n",
       "\n",
       "    .dataframe thead th {\n",
       "        text-align: right;\n",
       "    }\n",
       "</style>\n",
       "<table border=\"1\" class=\"dataframe\">\n",
       "  <thead>\n",
       "    <tr style=\"text-align: right;\">\n",
       "      <th></th>\n",
       "      <th>count</th>\n",
       "      <th>mean</th>\n",
       "      <th>std</th>\n",
       "      <th>min</th>\n",
       "      <th>25%</th>\n",
       "      <th>50%</th>\n",
       "      <th>75%</th>\n",
       "      <th>max</th>\n",
       "    </tr>\n",
       "  </thead>\n",
       "  <tbody>\n",
       "    <tr>\n",
       "      <th>year</th>\n",
       "      <td>416.0</td>\n",
       "      <td>2010.766827</td>\n",
       "      <td>1.434835</td>\n",
       "      <td>2008.0</td>\n",
       "      <td>2010.00</td>\n",
       "      <td>2011.0</td>\n",
       "      <td>2012.0</td>\n",
       "      <td>2013.0</td>\n",
       "    </tr>\n",
       "    <tr>\n",
       "      <th>weekofyear</th>\n",
       "      <td>416.0</td>\n",
       "      <td>26.439904</td>\n",
       "      <td>14.978257</td>\n",
       "      <td>1.0</td>\n",
       "      <td>13.75</td>\n",
       "      <td>26.0</td>\n",
       "      <td>39.0</td>\n",
       "      <td>53.0</td>\n",
       "    </tr>\n",
       "    <tr>\n",
       "      <th>total_cases</th>\n",
       "      <td>416.0</td>\n",
       "      <td>27.990385</td>\n",
       "      <td>31.155342</td>\n",
       "      <td>1.0</td>\n",
       "      <td>8.00</td>\n",
       "      <td>18.0</td>\n",
       "      <td>31.0</td>\n",
       "      <td>177.0</td>\n",
       "    </tr>\n",
       "  </tbody>\n",
       "</table>\n",
       "</div>"
      ],
      "text/plain": [
       "             count         mean        std     min      25%     50%     75%  \\\n",
       "year         416.0  2010.766827   1.434835  2008.0  2010.00  2011.0  2012.0   \n",
       "weekofyear   416.0    26.439904  14.978257     1.0    13.75    26.0    39.0   \n",
       "total_cases  416.0    27.990385  31.155342     1.0     8.00    18.0    31.0   \n",
       "\n",
       "                max  \n",
       "year         2013.0  \n",
       "weekofyear     53.0  \n",
       "total_cases   177.0  "
      ]
     },
     "execution_count": 9,
     "metadata": {},
     "output_type": "execute_result"
    },
    {
     "data": {
      "image/png": "[encoded data removed]",
      "text/plain": [
       "<Figure size 432x288 with 1 Axes>"
      ]
     },
     "metadata": {},
     "output_type": "display_data"
    },
    {
     "data": {
      "image/png": "[encoded data removed]",
      "text/plain": [
       "<Figure size 432x288 with 1 Axes>"
      ]
     },
     "metadata": {},
     "output_type": "display_data"
    }
   ],
   "source": [
    "predictions = pd.DataFrame()\n",
    "submision_predictions = pd.DataFrame()\n",
    "\n",
    "train_features = dengue_dataset_labeled.columns.drop(['total_cases', 'city', \n",
    "                                                      'week_start_date'])\n",
    "\n",
    "\n",
    "climate_variables = dengue_dataset_labeled.columns.drop(['weekofyear', 'city', 'week_start_date', \n",
    "                                                         'year', 'total_cases'])\n",
    "\n",
    "\n",
    "train_features = ['reanalysis_specific_humidity_g_per_kg',  \n",
    "                  'reanalysis_dew_point_temp_k',\n",
    "                  'station_avg_temp_c']\n",
    "\n",
    "\n",
    "dengue_dataset_lastweek = pd.DataFrame()\n",
    "\n",
    "dengue_dataset_labeled['week_start_date'] = pd.to_datetime(dengue_dataset_labeled['week_start_date'])\n",
    "\n",
    "cities = dengue_dataset_labeled['city'].unique()\n",
    "\n",
    "for city in cities:\n",
    "\n",
    "    dd_city = dengue_dataset_labeled[dengue_dataset_labeled['city'].isin([city])]\n",
    "\n",
    "    \n",
    "    # --------------------------------------\n",
    "    # Preprocessing\n",
    "    #---------------------------------------\n",
    "    \n",
    "    # Fill missing values\n",
    "    dd_city.loc[:,train_features] = dd_city.loc[:,train_features].fillna(method='ffill')\n",
    "    \n",
    "    # Use for each sample the median of the weather 12 weeks ago\n",
    "    for j, climate_variable in enumerate(climate_variables):\n",
    "        dd_city[climate_variable] = (dd_city.sort_values(['city', 'year', 'weekofyear'],\n",
    "                                                         ascending=True)[climate_variable]\n",
    "                                     .rolling(window=8).median())\n",
    "    # Fill missing values    \n",
    "    dd_city.loc[:,train_features] = dd_city.loc[:,train_features].fillna(method='bfill')\n",
    "    \n",
    "    scaler = StandardScaler()\n",
    "    dd_city.loc[:,train_features] =  scaler.fit_transform(dd_city.loc[:,train_features])\n",
    "    \n",
    "    # Get the train and test input datasets  \n",
    "    dataset_train = dd_city.loc[dd_city['total_cases'].notnull(),:]\n",
    "    dataset_test  = dd_city.loc[dd_city['total_cases'].isnull(),:]\n",
    "    \n",
    "    dataset_label = dataset_train['total_cases']\n",
    "    dataset_train = dataset_train.drop(['total_cases'], axis=1)\n",
    "    \n",
    "    # Feature selection\n",
    "    \n",
    "    dataset_train = dataset_train.loc[:,train_features]\n",
    "    \n",
    "    # --------------------------------------\n",
    "    # Split dataset in test and training\n",
    "    #---------------------------------------\n",
    "    X_train, X_test, y_train, y_test = train_test_split(dataset_train, \n",
    "                                                        dataset_label, \n",
    "                                                        test_size = 0.2, \n",
    "                                                        shuffle=False)\n",
    "    \n",
    "    \n",
    "    # --------------------------------------\n",
    "    # Training models\n",
    "    #---------------------------------------\n",
    "\n",
    "    xgb_res = xgb.XGBRegressor(objective=\"reg:linear\", random_state=83)\n",
    "    \n",
    "    xgb_res.fit(X_train, y_train)\n",
    "    xgb.plot_importance(xgb_res)\n",
    "    \n",
    "    y_pred_xgb = xgb_res.predict(X_test)\n",
    "    \n",
    "    res = pd.DataFrame({'y_pred_xgb':y_pred_xgb, 'y_test':y_test})\n",
    "    \n",
    "    res['city'] = city\n",
    "    \n",
    "    predictions = pd.concat([predictions, res], axis=0)\n",
    "    \n",
    "    \n",
    "    # --------------------------------------\n",
    "    # Prediction of test dataset (Build submition dataframe)\n",
    "    #---------------------------------------\n",
    "    \n",
    "    y_predictions = xgb_res.predict(dataset_test.loc[:,train_features])\n",
    "    \n",
    "    dataset_test.loc[:,train_features] = scaler.inverse_transform(dataset_test.loc[:,train_features])\n",
    "    \n",
    "    print(dataset_test[['year', 'weekofyear']].drop_duplicates().describe().T)\n",
    "    \n",
    "    du.printlog(\"Preprocessing test data \" + city + \" \" + str(y_predictions.shape)) \n",
    "    \n",
    "    dataset_test['total_cases'] = np.round(y_predictions).astype(int)\n",
    "    dataset_test['city'] = city\n",
    "    \n",
    "    submision_predictions = pd.concat([submision_predictions, dataset_test], axis=0)\n",
    "    \n",
    "# --------------------------------\n",
    "# Model evaluation\n",
    "# --------------------------------\n",
    "metrics_xgb = du.get_metrics(predictions.y_test, predictions.y_pred_xgb)\n",
    "print(metrics_xgb)\n",
    "\n",
    "submision_predictions[['city', 'year', 'weekofyear', 'total_cases']].drop_duplicates().describe().T"
   ]
  },
  {
   "cell_type": "code",
   "execution_count": 13,
   "metadata": {
    "ExecuteTime": {
     "end_time": "2019-10-19T18:14:25.934927Z",
     "start_time": "2019-10-19T18:14:25.409309Z"
    }
   },
   "outputs": [
    {
     "name": "stdout",
     "output_type": "stream",
     "text": [
      "(21.3530723027987, -0.9021047706546728, -0.7365223159461336)\n"
     ]
    },
    {
     "data": {
      "image/png": "[encoded data removed]",
      "text/plain": [
       "<Figure size 432x288 with 1 Axes>"
      ]
     },
     "metadata": {},
     "output_type": "display_data"
    }
   ],
   "source": [
    "metrics_xgb = du.get_metrics(predictions.y_test, predictions.y_pred_xgb)\n",
    "print(metrics_xgb)\n",
    "\n",
    "#df = pd.concat([df_test, y_pred_xgb], axis=1)\n",
    "\n",
    "ax = sns.scatterplot(x=\"y_test\", y=\"y_pred_xgb\", data=predictions)"
   ]
  },
  {
   "cell_type": "code",
   "execution_count": 11,
   "metadata": {
    "ExecuteTime": {
     "end_time": "2019-10-19T18:14:16.835319Z",
     "start_time": "2019-10-19T18:14:16.807419Z"
    }
   },
   "outputs": [
    {
     "data": {
      "text/html": [
       "<div>\n",
       "<style scoped>\n",
       "    .dataframe tbody tr th:only-of-type {\n",
       "        vertical-align: middle;\n",
       "    }\n",
       "\n",
       "    .dataframe tbody tr th {\n",
       "        vertical-align: top;\n",
       "    }\n",
       "\n",
       "    .dataframe thead th {\n",
       "        text-align: right;\n",
       "    }\n",
       "</style>\n",
       "<table border=\"1\" class=\"dataframe\">\n",
       "  <thead>\n",
       "    <tr style=\"text-align: right;\">\n",
       "      <th></th>\n",
       "      <th>count</th>\n",
       "      <th>mean</th>\n",
       "      <th>std</th>\n",
       "      <th>min</th>\n",
       "      <th>25%</th>\n",
       "      <th>50%</th>\n",
       "      <th>75%</th>\n",
       "      <th>max</th>\n",
       "    </tr>\n",
       "  </thead>\n",
       "  <tbody>\n",
       "    <tr>\n",
       "      <th>year</th>\n",
       "      <td>416.0</td>\n",
       "      <td>2010.766827</td>\n",
       "      <td>1.434835</td>\n",
       "      <td>2008.0</td>\n",
       "      <td>2010.00</td>\n",
       "      <td>2011.0</td>\n",
       "      <td>2012.0</td>\n",
       "      <td>2013.0</td>\n",
       "    </tr>\n",
       "    <tr>\n",
       "      <th>weekofyear</th>\n",
       "      <td>416.0</td>\n",
       "      <td>26.439904</td>\n",
       "      <td>14.978257</td>\n",
       "      <td>1.0</td>\n",
       "      <td>13.75</td>\n",
       "      <td>26.0</td>\n",
       "      <td>39.0</td>\n",
       "      <td>53.0</td>\n",
       "    </tr>\n",
       "    <tr>\n",
       "      <th>total_cases</th>\n",
       "      <td>416.0</td>\n",
       "      <td>27.990385</td>\n",
       "      <td>31.155342</td>\n",
       "      <td>1.0</td>\n",
       "      <td>8.00</td>\n",
       "      <td>18.0</td>\n",
       "      <td>31.0</td>\n",
       "      <td>177.0</td>\n",
       "    </tr>\n",
       "  </tbody>\n",
       "</table>\n",
       "</div>"
      ],
      "text/plain": [
       "             count         mean        std     min      25%     50%     75%  \\\n",
       "year         416.0  2010.766827   1.434835  2008.0  2010.00  2011.0  2012.0   \n",
       "weekofyear   416.0    26.439904  14.978257     1.0    13.75    26.0    39.0   \n",
       "total_cases  416.0    27.990385  31.155342     1.0     8.00    18.0    31.0   \n",
       "\n",
       "                max  \n",
       "year         2013.0  \n",
       "weekofyear     53.0  \n",
       "total_cases   177.0  "
      ]
     },
     "execution_count": 11,
     "metadata": {},
     "output_type": "execute_result"
    }
   ],
   "source": [
    "submision_predictions[['city', 'year', 'weekofyear', 'total_cases']].drop_duplicates().describe().T"
   ]
  },
  {
   "cell_type": "code",
   "execution_count": 12,
   "metadata": {
    "ExecuteTime": {
     "end_time": "2019-10-19T18:14:17.432085Z",
     "start_time": "2019-10-19T18:14:17.418538Z"
    }
   },
   "outputs": [
    {
     "data": {
      "text/html": [
       "<div>\n",
       "<style scoped>\n",
       "    .dataframe tbody tr th:only-of-type {\n",
       "        vertical-align: middle;\n",
       "    }\n",
       "\n",
       "    .dataframe tbody tr th {\n",
       "        vertical-align: top;\n",
       "    }\n",
       "\n",
       "    .dataframe thead th {\n",
       "        text-align: right;\n",
       "    }\n",
       "</style>\n",
       "<table border=\"1\" class=\"dataframe\">\n",
       "  <thead>\n",
       "    <tr style=\"text-align: right;\">\n",
       "      <th></th>\n",
       "      <th>city</th>\n",
       "      <th>year</th>\n",
       "      <th>weekofyear</th>\n",
       "      <th>total_cases</th>\n",
       "    </tr>\n",
       "  </thead>\n",
       "  <tbody>\n",
       "    <tr>\n",
       "      <th>1456</th>\n",
       "      <td>sj</td>\n",
       "      <td>2008</td>\n",
       "      <td>18</td>\n",
       "      <td>17</td>\n",
       "    </tr>\n",
       "    <tr>\n",
       "      <th>1457</th>\n",
       "      <td>sj</td>\n",
       "      <td>2008</td>\n",
       "      <td>19</td>\n",
       "      <td>16</td>\n",
       "    </tr>\n",
       "    <tr>\n",
       "      <th>1458</th>\n",
       "      <td>sj</td>\n",
       "      <td>2008</td>\n",
       "      <td>20</td>\n",
       "      <td>17</td>\n",
       "    </tr>\n",
       "    <tr>\n",
       "      <th>1459</th>\n",
       "      <td>sj</td>\n",
       "      <td>2008</td>\n",
       "      <td>21</td>\n",
       "      <td>26</td>\n",
       "    </tr>\n",
       "    <tr>\n",
       "      <th>1460</th>\n",
       "      <td>sj</td>\n",
       "      <td>2008</td>\n",
       "      <td>22</td>\n",
       "      <td>25</td>\n",
       "    </tr>\n",
       "  </tbody>\n",
       "</table>\n",
       "</div>"
      ],
      "text/plain": [
       "     city  year  weekofyear  total_cases\n",
       "1456   sj  2008          18           17\n",
       "1457   sj  2008          19           16\n",
       "1458   sj  2008          20           17\n",
       "1459   sj  2008          21           26\n",
       "1460   sj  2008          22           25"
      ]
     },
     "execution_count": 12,
     "metadata": {},
     "output_type": "execute_result"
    }
   ],
   "source": [
    "submision_predictions['year'] = submision_predictions['year'].astype('int64')\n",
    "submision_predictions['weekofyear'] = submision_predictions['weekofyear'].astype('int64')\n",
    "submision_predictions['total_cases'] = submision_predictions['total_cases'].astype('int64')\n",
    "submision_predictions = submision_predictions[['city', 'year', 'weekofyear', 'total_cases']]\n",
    "submision_predictions.head()"
   ]
  },
  {
   "cell_type": "code",
   "execution_count": 7,
   "metadata": {},
   "outputs": [
    {
     "data": {
      "text/html": [
       "<div>\n",
       "<style>\n",
       "    .dataframe thead tr:only-child th {\n",
       "        text-align: right;\n",
       "    }\n",
       "\n",
       "    .dataframe thead th {\n",
       "        text-align: left;\n",
       "    }\n",
       "\n",
       "    .dataframe tbody tr th {\n",
       "        vertical-align: top;\n",
       "    }\n",
       "</style>\n",
       "<table border=\"1\" class=\"dataframe\">\n",
       "  <thead>\n",
       "    <tr style=\"text-align: right;\">\n",
       "      <th></th>\n",
       "      <th>count</th>\n",
       "      <th>mean</th>\n",
       "      <th>std</th>\n",
       "      <th>min</th>\n",
       "      <th>25%</th>\n",
       "      <th>50%</th>\n",
       "      <th>75%</th>\n",
       "      <th>max</th>\n",
       "    </tr>\n",
       "  </thead>\n",
       "  <tbody>\n",
       "    <tr>\n",
       "      <th>year</th>\n",
       "      <td>416.0</td>\n",
       "      <td>2010.766827</td>\n",
       "      <td>1.434835</td>\n",
       "      <td>2008.0</td>\n",
       "      <td>2010.00</td>\n",
       "      <td>2011.0</td>\n",
       "      <td>2012.0</td>\n",
       "      <td>2013.0</td>\n",
       "    </tr>\n",
       "    <tr>\n",
       "      <th>weekofyear</th>\n",
       "      <td>416.0</td>\n",
       "      <td>26.439904</td>\n",
       "      <td>14.978257</td>\n",
       "      <td>1.0</td>\n",
       "      <td>13.75</td>\n",
       "      <td>26.0</td>\n",
       "      <td>39.0</td>\n",
       "      <td>53.0</td>\n",
       "    </tr>\n",
       "    <tr>\n",
       "      <th>total_cases</th>\n",
       "      <td>416.0</td>\n",
       "      <td>19.322115</td>\n",
       "      <td>20.555118</td>\n",
       "      <td>-2.0</td>\n",
       "      <td>6.00</td>\n",
       "      <td>11.0</td>\n",
       "      <td>23.0</td>\n",
       "      <td>114.0</td>\n",
       "    </tr>\n",
       "  </tbody>\n",
       "</table>\n",
       "</div>"
      ],
      "text/plain": [
       "             count         mean        std     min      25%     50%     75%  \\\n",
       "year         416.0  2010.766827   1.434835  2008.0  2010.00  2011.0  2012.0   \n",
       "weekofyear   416.0    26.439904  14.978257     1.0    13.75    26.0    39.0   \n",
       "total_cases  416.0    19.322115  20.555118    -2.0     6.00    11.0    23.0   \n",
       "\n",
       "                max  \n",
       "year         2013.0  \n",
       "weekofyear     53.0  \n",
       "total_cases   114.0  "
      ]
     },
     "execution_count": 7,
     "metadata": {},
     "output_type": "execute_result"
    }
   ],
   "source": [
    "submision_predictions[['city', 'year', 'weekofyear', 'total_cases']].drop_duplicates().describe().T"
   ]
  },
  {
   "cell_type": "code",
   "execution_count": 8,
   "metadata": {},
   "outputs": [
    {
     "name": "stdout",
     "output_type": "stream",
     "text": [
      "ok\n"
     ]
    }
   ],
   "source": [
    "if submision_predictions.shape[0] == 416:\n",
    "    submision_predictions.to_csv(\"../results/submissions/submission_20190422.3.csv\", index=False)\n",
    "    print('ok')\n",
    "else:\n",
    "    print(\"no!\")"
   ]
  },
  {
   "cell_type": "code",
   "execution_count": null,
   "metadata": {},
   "outputs": [],
   "source": []
  }
 ],
 "metadata": {
  "kernelspec": {
   "display_name": "Python 3",
   "language": "python",
   "name": "python3"
  },
  "language_info": {
   "codemirror_mode": {
    "name": "ipython",
    "version": 3
   },
   "file_extension": ".py",
   "mimetype": "text/x-python",
   "name": "python",
   "nbconvert_exporter": "python",
   "pygments_lexer": "ipython3",
   "version": "3.7.3"
  },
  "toc": {
   "base_numbering": 1,
   "nav_menu": {},
   "number_sections": true,
   "sideBar": true,
   "skip_h1_title": false,
   "title_cell": "Table of Contents",
   "title_sidebar": "Contents",
   "toc_cell": false,
   "toc_position": {},
   "toc_section_display": true,
   "toc_window_display": false
  },
  "varInspector": {
   "cols": {
    "lenName": 16,
    "lenType": 16,
    "lenVar": 40
   },
   "kernels_config": {
    "python": {
     "delete_cmd_postfix": "",
     "delete_cmd_prefix": "del ",
     "library": "var_list.py",
     "varRefreshCmd": "print(var_dic_list())"
    },
    "r": {
     "delete_cmd_postfix": ") ",
     "delete_cmd_prefix": "rm(",
     "library": "var_list.r",
     "varRefreshCmd": "cat(var_dic_list()) "
    }
   },
   "types_to_exclude": [
    "module",
    "function",
    "builtin_function_or_method",
    "instance",
    "_Feature"
   ],
   "window_display": false
  }
 },
 "nbformat": 4,
 "nbformat_minor": 2
}
