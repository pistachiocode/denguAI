{
 "cells": [
  {
   "cell_type": "markdown",
   "metadata": {},
   "source": [
    "# Linear Regression\n"
   ]
  },
  {
   "cell_type": "markdown",
   "metadata": {},
   "source": [
    "## Import libraries"
   ]
  },
  {
   "cell_type": "code",
   "execution_count": 1,
   "metadata": {},
   "outputs": [],
   "source": [
    "import pandas as pd\n",
    "import numpy as np\n",
    "\n",
    "from sklearn.linear_model import LinearRegression, ElasticNetCV, ElasticNet\n",
    "from sklearn.metrics import mean_absolute_error, r2_score, explained_variance_score\n",
    "from sklearn.model_selection import train_test_split\n",
    "\n",
    "# Data imputation\n",
    "from sklearn.preprocessing import Imputer\n",
    "from sklearn.preprocessing import StandardScaler\n",
    "\n",
    "from sklearn.model_selection import GridSearchCV\n",
    "\n",
    "import matplotlib.pyplot as plt\n",
    "%matplotlib inline\n",
    "\n",
    "import seaborn as sns\n",
    "\n",
    "sns.set_style(\"whitegrid\")\n",
    "\n",
    "import warnings\n",
    "warnings.filterwarnings('ignore')"
   ]
  },
  {
   "cell_type": "markdown",
   "metadata": {},
   "source": [
    "## Functions"
   ]
  },
  {
   "cell_type": "code",
   "execution_count": 2,
   "metadata": {},
   "outputs": [],
   "source": [
    "# Functions:\n",
    "\n",
    "def simple_linear_regression(X, y):\n",
    "    \n",
    "    X_train, X_test, y_train, y_test = train_test_split(X, y, test_size = 0.2, random_state=83)\n",
    "    \n",
    "    reg = LinearRegression(normalize=True).fit(X_train, y_train)\n",
    "\n",
    "    y_pred = reg.predict(X_test)\n",
    "\n",
    "    mae = mean_absolute_error(y_test, y_pred)\n",
    "    r2 = r2_score(y_test, y_pred)\n",
    "    ex_var = explained_variance_score(y_test, y_pred)\n",
    "    \n",
    "    return mae, r2, ex_var\n",
    "\n",
    "def enet(X, y):\n",
    "    \n",
    "    X_train, X_test, y_train, y_test = train_test_split(X, y, test_size = 0.2, random_state=83)\n",
    "\n",
    "    reg = ElasticNet(normalize=False).fit(X_train, y_train)\n",
    "\n",
    "    y_pred = reg.predict(X_test)\n",
    "    \n",
    "    return y_pred, y_test\n",
    "\n",
    "def get_metrics(y_test, y_pred):\n",
    "    \n",
    "    mae = mean_absolute_error(y_test, y_pred)\n",
    "    r2 = r2_score(y_test, y_pred)\n",
    "    ex_var = explained_variance_score(y_test, y_pred)\n",
    "    \n",
    "    return mae, r2, ex_var\n",
    "\n",
    "def feature_engineering(df):## Add month of the year\n",
    "\n",
    "    print(\"1. Including month of the year from 'week_start_date....'\")\n",
    "    df['week_start_date'] = pd.to_datetime(df['week_start_date'])\n",
    "    df['monthofyear'] = df['week_start_date'].apply(lambda x: x.month)\n",
    "\n",
    "\n",
    "    # High correlation between ndvi_nw-ndvi-ne and ndvi-sw-ndvi-se\n",
    "    # Add the mean of each pair that indicates the level of vegetation in the north and south of both cities.\n",
    "\n",
    "    # Features engineering\n",
    "    print(\"2. Including ndvi_north and  ndvi_south from ndvi_nw, ndvi_ne, ndvi_sw, ndvi_se.... \")\n",
    "    df['ndvi_north'] = df[['ndvi_nw', 'ndvi_ne']].mean(axis=1)\n",
    "    df['ndvi_south'] = df[['ndvi_sw', 'ndvi_se']].mean(axis=1)\n",
    "\n",
    "    #Remove feature\n",
    "\n",
    "    df = df.drop(['ndvi_sw', 'ndvi_nw', 'ndvi_ne', 'ndvi_se', 'week_start_date'], axis=1)\n",
    "\n",
    "    # Conversion kelvin to celsius\n",
    "    print(\"3. Temperature units conversion: kelvin to celsius from some features...\")\n",
    "    import pytemperature\n",
    "\n",
    "    df['reanalysis_air_temp_c'] = pytemperature.k2c(df['reanalysis_air_temp_k'])\n",
    "    df['reanalysis_dew_point_temp_c'] = pytemperature.k2c(df['reanalysis_dew_point_temp_k'])\n",
    "    df['reanalysis_max_air_temp_c'] = pytemperature.k2c(df['reanalysis_max_air_temp_k'])\n",
    "    df['reanalysis_min_air_temp_c'] = pytemperature.k2c(df['reanalysis_min_air_temp_k'])\n",
    "    df['reanalysis_avg_temp_c'] = pytemperature.k2c(df['reanalysis_avg_temp_k'])\n",
    "    df['reanalysis_tdtr_c'] = pytemperature.k2c(df['reanalysis_tdtr_k'])\n",
    "\n",
    "    # Drop kelvin features\n",
    "\n",
    "    print(\"4. Drop variables\")      \n",
    "    df = df.drop(['reanalysis_air_temp_k', 'reanalysis_dew_point_temp_k', \n",
    "                  'reanalysis_max_air_temp_k', 'reanalysis_min_air_temp_k',\n",
    "                  'reanalysis_avg_temp_k', 'reanalysis_tdtr_k'], axis=1)\n",
    "    \n",
    "    return df\n"
   ]
  },
  {
   "cell_type": "markdown",
   "metadata": {},
   "source": [
    "## Load dataset"
   ]
  },
  {
   "cell_type": "code",
   "execution_count": 10,
   "metadata": {},
   "outputs": [],
   "source": [
    "# Load dataset\n",
    "\n",
    "features_train = pd.read_csv('dengue_features_train.csv')\n",
    "labels_train   = pd.read_csv('dengue_labels_train.csv')\n",
    "\n",
    "features_test = pd.read_csv('dengue_features_test.csv')\n",
    "\n",
    "# Join train labes and features\n",
    "input_train_dataset = features_train.merge(labels_train, \n",
    "                                           left_on = ['city', 'year', 'weekofyear'], \n",
    "                                           right_on = ['city', 'year', 'weekofyear'],\n",
    "                                           how = 'inner')"
   ]
  },
  {
   "cell_type": "markdown",
   "metadata": {},
   "source": []
  },
  {
   "cell_type": "code",
   "execution_count": 11,
   "metadata": {},
   "outputs": [
    {
     "name": "stdout",
     "output_type": "stream",
     "text": [
      "1. Including month of the year from 'week_start_date....'\n",
      "2. Including ndvi_north and  ndvi_south from ndvi_nw, ndvi_ne, ndvi_sw, ndvi_se.... \n",
      "3. Temperature units conversion: kelvin to celsius from some features...\n",
      "4. Drop variables\n"
     ]
    }
   ],
   "source": [
    "# Feature engineering\n",
    "input_train_dataset = feature_engineering(input_train_dataset)\n",
    "input_train_dataset = input_train_dataset\n",
    "features = list(filter(lambda x : x not in ['ndvi_sw', 'ndvi_nw', 'ndvi_ne', 'ndvi_se', \n",
    "                                            'city', 'week_start_date','total_cases'], input_train_dataset.columns))\n",
    "\n",
    "label = 'total_cases'\n"
   ]
  },
  {
   "cell_type": "code",
   "execution_count": 12,
   "metadata": {},
   "outputs": [
    {
     "data": {
      "text/plain": [
       "Index(['city', 'year', 'weekofyear', 'precipitation_amt_mm',\n",
       "       'reanalysis_precip_amt_kg_per_m2',\n",
       "       'reanalysis_relative_humidity_percent', 'reanalysis_sat_precip_amt_mm',\n",
       "       'reanalysis_specific_humidity_g_per_kg', 'station_avg_temp_c',\n",
       "       'station_diur_temp_rng_c', 'station_max_temp_c', 'station_min_temp_c',\n",
       "       'station_precip_mm', 'total_cases', 'monthofyear', 'ndvi_north',\n",
       "       'ndvi_south', 'reanalysis_air_temp_c', 'reanalysis_dew_point_temp_c',\n",
       "       'reanalysis_max_air_temp_c', 'reanalysis_min_air_temp_c',\n",
       "       'reanalysis_avg_temp_c', 'reanalysis_tdtr_c'],\n",
       "      dtype='object')"
      ]
     },
     "execution_count": 12,
     "metadata": {},
     "output_type": "execute_result"
    }
   ],
   "source": [
    "input_train_dataset.columns"
   ]
  },
  {
   "cell_type": "markdown",
   "metadata": {},
   "source": [
    "## Simple linear regression"
   ]
  },
  {
   "cell_type": "code",
   "execution_count": 14,
   "metadata": {},
   "outputs": [
    {
     "name": "stdout",
     "output_type": "stream",
     "text": [
      "(14.883363315239112, -1.1341226685527577, -1.1183689684165543)\n",
      "sj\n",
      "iq\n",
      "(14.888994825039227, -2.0577160719209973, -2.056114725326351)\n"
     ]
    }
   ],
   "source": [
    "# Both cities\n",
    "\n",
    "features_lreg = input_train_dataset.columns.drop(['city', 'total_cases'])\n",
    "\n",
    "# Data imputation\n",
    "train_dataset_dropna = input_train_dataset.dropna().drop_duplicates()\n",
    "\n",
    "y_pred, y_test = enet(train_dataset_dropna[features_lreg], train_dataset_dropna[label])\n",
    "\n",
    "res = get_metrics(y_pred, y_test)\n",
    "\n",
    "print(res)\n",
    "\n",
    "# For each city\n",
    "\n",
    "cities = input_train_dataset['city'].unique()\n",
    "\n",
    "y_pred_final = list()\n",
    "y_test_final = list()\n",
    "for city in cities:\n",
    "    \n",
    "    print(city)\n",
    "    \n",
    "    train_dataset_dropna_city = train_dataset_dropna[train_dataset_dropna['city'] == city]\n",
    "    \n",
    "    y_pred, y_test = enet(train_dataset_dropna_city[features_lreg], train_dataset_dropna_city[label])\n",
    "    \n",
    "    y_pred_final = y_pred_final + list(y_pred)\n",
    "\n",
    "    y_test_final = y_test_final + list(y_test)\n",
    "\n",
    "res = get_metrics(y_pred_final, y_test_final)   \n",
    "\n",
    "print(res)"
   ]
  },
  {
   "cell_type": "markdown",
   "metadata": {
    "heading_collapsed": true
   },
   "source": [
    "## Data imputation + Simple linear regression"
   ]
  },
  {
   "cell_type": "code",
   "execution_count": 14,
   "metadata": {
    "hidden": true
   },
   "outputs": [],
   "source": [
    "# Data imputation\n",
    "from sklearn.preprocessing import Imputer\n",
    "from sklearn.preprocessing import StandardScaler\n",
    "\n",
    "imp = Imputer(missing_values='NaN', strategy='mean', axis=0)\n",
    "train_dataset_imputed = pd.DataFrame(imp.fit_transform(train_dataset))\n",
    "\n",
    "train_dataset_imputed.columns = train_dataset.columns\n",
    "train_dataset_imputed.index   = train_dataset.index\n",
    "\n",
    "train_label   = train_dataset_imputed[label]\n",
    "train_dataset = train_dataset_imputed[features_lreg]\n",
    "\n",
    "scaler = StandardScaler().fit(train_dataset)\n",
    "train_dataset_scaled = pd.DataFrame(scaler.transform(train_dataset), \n",
    "                                    columns=train_dataset.columns)"
   ]
  },
  {
   "cell_type": "code",
   "execution_count": 15,
   "metadata": {
    "hidden": true
   },
   "outputs": [
    {
     "data": {
      "text/plain": [
       "True"
      ]
     },
     "execution_count": 15,
     "metadata": {},
     "output_type": "execute_result"
    }
   ],
   "source": [
    "train_label.shape[0] == train_dataset.shape[0]"
   ]
  },
  {
   "cell_type": "code",
   "execution_count": 16,
   "metadata": {
    "hidden": true
   },
   "outputs": [
    {
     "name": "stdout",
     "output_type": "stream",
     "text": [
      "(5.3748697889132355, 0.8185557563781125, 0.8199521674007479)\n"
     ]
    }
   ],
   "source": [
    "# Both cities\n",
    "\n",
    "features_lreg = input_train_dataset.columns.drop(['city'])\n",
    "\n",
    "y_pred, y_test = enet(train_dataset_scaled, train_label)\n",
    "\n",
    "res = get_metrics(y_pred, y_test)\n",
    "\n",
    "print(res)"
   ]
  },
  {
   "cell_type": "markdown",
   "metadata": {
    "heading_collapsed": true
   },
   "source": [
    "## PCA\n",
    "\n",
    "https://georgemdallas.wordpress.com/2013/10/30/principal-component-analysis-4-dummies-eigenvectors-eigenvalues-and-dimension-reduction/\n",
    "    "
   ]
  },
  {
   "cell_type": "code",
   "execution_count": 17,
   "metadata": {
    "hidden": true
   },
   "outputs": [
    {
     "data": {
      "image/png": "[encoded data removed]",
      "text/plain": [
       "<Figure size 432x288 with 1 Axes>"
      ]
     },
     "metadata": {
      "needs_background": "light"
     },
     "output_type": "display_data"
    }
   ],
   "source": [
    "from sklearn.decomposition import PCA\n",
    "\n",
    "pca = PCA()\n",
    "\n",
    "principalComponents = pca.fit_transform(train_dataset_scaled)\n",
    "principalDf = pd.DataFrame(data = principalComponents)\n",
    "\n",
    "#Plotting the Cumulative Summation of the Explained Variance\n",
    "plt.figure()\n",
    "plt.plot(np.cumsum(pca.explained_variance_ratio_))\n",
    "plt.xlabel('Number of Components')\n",
    "plt.ylabel('Variance (%)') #for each component\n",
    "plt.title('Dataset Explained Variance')\n",
    "plt.show()"
   ]
  },
  {
   "cell_type": "code",
   "execution_count": 18,
   "metadata": {
    "hidden": true
   },
   "outputs": [
    {
     "data": {
      "text/plain": [
       "(1367, 12)"
      ]
     },
     "execution_count": 18,
     "metadata": {},
     "output_type": "execute_result"
    }
   ],
   "source": [
    "pca = PCA(n_components=12)\n",
    "dataset_train = pca.fit_transform(train_dataset_scaled)\n",
    "#dataset = pd.DataFrame(dataset, columns = ['pca_comp1', 'pca_comp2', 'pca_comp3', 'pca_comp4', 'pca_comp5'])\n",
    "dataset_train.shape"
   ]
  },
  {
   "cell_type": "code",
   "execution_count": 19,
   "metadata": {
    "hidden": true
   },
   "outputs": [
    {
     "name": "stdout",
     "output_type": "stream",
     "text": [
      "5.741001758787902\n",
      "0.8889781873089899\n",
      "0.8900812948064022\n"
     ]
    }
   ],
   "source": [
    "X_train, X_test, y_train, y_test = train_test_split(dataset_train, \n",
    "                                                    train_label, \n",
    "                                                    test_size = 0.2, \n",
    "                                                    random_state=83)\n",
    "\n",
    "reg = ElasticNet(normalize=False).fit(X_train, y_train)\n",
    "\n",
    "y_pred = reg.predict(X_test)\n",
    "\n",
    "mae = mean_absolute_error(y_test, y_pred)\n",
    "r2 = r2_score(y_test, y_pred)\n",
    "ex_var = explained_variance_score(y_test, y_pred)\n",
    "\n",
    "print(mae)\n",
    "print(r2)\n",
    "print(ex_var)"
   ]
  },
  {
   "cell_type": "code",
   "execution_count": null,
   "metadata": {
    "hidden": true
   },
   "outputs": [],
   "source": []
  }
 ],
 "metadata": {
  "kernelspec": {
   "display_name": "Python 3",
   "language": "python",
   "name": "python3"
  },
  "language_info": {
   "codemirror_mode": {
    "name": "ipython",
    "version": 3
   },
   "file_extension": ".py",
   "mimetype": "text/x-python",
   "name": "python",
   "nbconvert_exporter": "python",
   "pygments_lexer": "ipython3",
   "version": "3.7.3"
  },
  "toc": {
   "base_numbering": 1,
   "nav_menu": {},
   "number_sections": true,
   "sideBar": true,
   "skip_h1_title": false,
   "title_cell": "Table of Contents",
   "title_sidebar": "Contents",
   "toc_cell": false,
   "toc_position": {},
   "toc_section_display": true,
   "toc_window_display": false
  },
  "varInspector": {
   "cols": {
    "lenName": 16,
    "lenType": 16,
    "lenVar": 40
   },
   "kernels_config": {
    "python": {
     "delete_cmd_postfix": "",
     "delete_cmd_prefix": "del ",
     "library": "var_list.py",
     "varRefreshCmd": "print(var_dic_list())"
    },
    "r": {
     "delete_cmd_postfix": ") ",
     "delete_cmd_prefix": "rm(",
     "library": "var_list.r",
     "varRefreshCmd": "cat(var_dic_list()) "
    }
   },
   "types_to_exclude": [
    "module",
    "function",
    "builtin_function_or_method",
    "instance",
    "_Feature"
   ],
   "window_display": false
  }
 },
 "nbformat": 4,
 "nbformat_minor": 2
}
